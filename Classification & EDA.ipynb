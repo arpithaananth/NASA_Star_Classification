{
 "cells": [
  {
   "cell_type": "code",
   "execution_count": 1,
   "id": "charming-quarter",
   "metadata": {
    "_cell_guid": "b1076dfc-b9ad-4769-8c92-a6c4dae69d19",
    "_uuid": "8f2839f25d086af736a60e9eeb907d3b93b6e0e5",
    "execution": {
     "iopub.execute_input": "2021-05-12T11:20:49.673272Z",
     "iopub.status.busy": "2021-05-12T11:20:49.668488Z",
     "iopub.status.idle": "2021-05-12T11:20:49.686972Z",
     "shell.execute_reply": "2021-05-12T11:20:49.686119Z"
    },
    "papermill": {
     "duration": 0.057691,
     "end_time": "2021-05-12T11:20:49.687181",
     "exception": false,
     "start_time": "2021-05-12T11:20:49.629490",
     "status": "completed"
    },
    "tags": []
   },
   "outputs": [
    {
     "name": "stdout",
     "output_type": "stream",
     "text": [
      "/kaggle/input/star-type-classification/Stars.csv\n"
     ]
    }
   ],
   "source": [
    "# This Python 3 environment comes with many helpful analytics libraries installed\n",
    "# It is defined by the kaggle/python Docker image: https://github.com/kaggle/docker-python\n",
    "# For example, here's several helpful packages to load\n",
    "\n",
    "import numpy as np # linear algebra\n",
    "import pandas as pd # data processing, CSV file I/O (e.g. pd.read_csv)\n",
    "\n",
    "# Input data files are available in the read-only \"../input/\" directory\n",
    "# For example, running this (by clicking run or pressing Shift+Enter) will list all files under the input directory\n",
    "\n",
    "import os\n",
    "for dirname, _, filenames in os.walk('/kaggle/input'):\n",
    "    for filename in filenames:\n",
    "        print(os.path.join(dirname, filename))\n",
    "\n",
    "# You can write up to 20GB to the current directory (/kaggle/working/) that gets preserved as output when you create a version using \"Save & Run All\" \n",
    "# You can also write temporary files to /kaggle/temp/, but they won't be saved outside of the current session"
   ]
  },
  {
   "cell_type": "markdown",
   "id": "central-grass",
   "metadata": {
    "papermill": {
     "duration": 0.027702,
     "end_time": "2021-05-12T11:20:49.743663",
     "exception": false,
     "start_time": "2021-05-12T11:20:49.715961",
     "status": "completed"
    },
    "tags": []
   },
   "source": [
    "## Importing the Required Libraries"
   ]
  },
  {
   "cell_type": "code",
   "execution_count": 2,
   "id": "breeding-nigeria",
   "metadata": {
    "execution": {
     "iopub.execute_input": "2021-05-12T11:20:49.807865Z",
     "iopub.status.busy": "2021-05-12T11:20:49.807043Z",
     "iopub.status.idle": "2021-05-12T11:20:51.220791Z",
     "shell.execute_reply": "2021-05-12T11:20:51.219764Z"
    },
    "papermill": {
     "duration": 1.449256,
     "end_time": "2021-05-12T11:20:51.220986",
     "exception": false,
     "start_time": "2021-05-12T11:20:49.771730",
     "status": "completed"
    },
    "tags": []
   },
   "outputs": [
    {
     "data": {
      "text/html": [
       "<div>\n",
       "<style scoped>\n",
       "    .dataframe tbody tr th:only-of-type {\n",
       "        vertical-align: middle;\n",
       "    }\n",
       "\n",
       "    .dataframe tbody tr th {\n",
       "        vertical-align: top;\n",
       "    }\n",
       "\n",
       "    .dataframe thead th {\n",
       "        text-align: right;\n",
       "    }\n",
       "</style>\n",
       "<table border=\"1\" class=\"dataframe\">\n",
       "  <thead>\n",
       "    <tr style=\"text-align: right;\">\n",
       "      <th></th>\n",
       "      <th>Temperature</th>\n",
       "      <th>L</th>\n",
       "      <th>R</th>\n",
       "      <th>A_M</th>\n",
       "      <th>Color</th>\n",
       "      <th>Spectral_Class</th>\n",
       "      <th>Type</th>\n",
       "    </tr>\n",
       "  </thead>\n",
       "  <tbody>\n",
       "    <tr>\n",
       "      <th>0</th>\n",
       "      <td>3068</td>\n",
       "      <td>0.002400</td>\n",
       "      <td>0.1700</td>\n",
       "      <td>16.12</td>\n",
       "      <td>Red</td>\n",
       "      <td>M</td>\n",
       "      <td>0</td>\n",
       "    </tr>\n",
       "    <tr>\n",
       "      <th>1</th>\n",
       "      <td>3042</td>\n",
       "      <td>0.000500</td>\n",
       "      <td>0.1542</td>\n",
       "      <td>16.60</td>\n",
       "      <td>Red</td>\n",
       "      <td>M</td>\n",
       "      <td>0</td>\n",
       "    </tr>\n",
       "    <tr>\n",
       "      <th>2</th>\n",
       "      <td>2600</td>\n",
       "      <td>0.000300</td>\n",
       "      <td>0.1020</td>\n",
       "      <td>18.70</td>\n",
       "      <td>Red</td>\n",
       "      <td>M</td>\n",
       "      <td>0</td>\n",
       "    </tr>\n",
       "    <tr>\n",
       "      <th>3</th>\n",
       "      <td>2800</td>\n",
       "      <td>0.000200</td>\n",
       "      <td>0.1600</td>\n",
       "      <td>16.65</td>\n",
       "      <td>Red</td>\n",
       "      <td>M</td>\n",
       "      <td>0</td>\n",
       "    </tr>\n",
       "    <tr>\n",
       "      <th>4</th>\n",
       "      <td>1939</td>\n",
       "      <td>0.000138</td>\n",
       "      <td>0.1030</td>\n",
       "      <td>20.06</td>\n",
       "      <td>Red</td>\n",
       "      <td>M</td>\n",
       "      <td>0</td>\n",
       "    </tr>\n",
       "  </tbody>\n",
       "</table>\n",
       "</div>"
      ],
      "text/plain": [
       "   Temperature         L       R    A_M Color Spectral_Class  Type\n",
       "0         3068  0.002400  0.1700  16.12   Red              M     0\n",
       "1         3042  0.000500  0.1542  16.60   Red              M     0\n",
       "2         2600  0.000300  0.1020  18.70   Red              M     0\n",
       "3         2800  0.000200  0.1600  16.65   Red              M     0\n",
       "4         1939  0.000138  0.1030  20.06   Red              M     0"
      ]
     },
     "execution_count": 2,
     "metadata": {},
     "output_type": "execute_result"
    }
   ],
   "source": [
    "import pandas as pd\n",
    "import numpy as np\n",
    "import seaborn as sns\n",
    "import matplotlib.pyplot as plt\n",
    "from sklearn.model_selection import train_test_split\n",
    "from sklearn.metrics import r2_score, mean_squared_error\n",
    "from sklearn.metrics import confusion_matrix\n",
    "from sklearn import metrics\n",
    "from sklearn.neighbors import KNeighborsClassifier\n",
    "from sklearn.linear_model import LogisticRegression\n",
    "from sklearn.naive_bayes import MultinomialNB\n",
    "from sklearn.tree import DecisionTreeClassifier\n",
    "from sklearn.ensemble import RandomForestClassifier,AdaBoostClassifier,GradientBoostingClassifier\n",
    "from sklearn.metrics import roc_auc_score\n",
    "from sklearn.preprocessing import LabelBinarizer\n",
    "import warnings\n",
    "warnings.filterwarnings(\"ignore\")\n",
    "\n",
    "data = pd.read_csv('/kaggle/input/star-type-classification/Stars.csv')\n",
    "data.head()"
   ]
  },
  {
   "cell_type": "code",
   "execution_count": 3,
   "id": "blind-knowing",
   "metadata": {
    "execution": {
     "iopub.execute_input": "2021-05-12T11:20:51.284756Z",
     "iopub.status.busy": "2021-05-12T11:20:51.284117Z",
     "iopub.status.idle": "2021-05-12T11:20:51.287717Z",
     "shell.execute_reply": "2021-05-12T11:20:51.288183Z"
    },
    "papermill": {
     "duration": 0.038605,
     "end_time": "2021-05-12T11:20:51.288386",
     "exception": false,
     "start_time": "2021-05-12T11:20:51.249781",
     "status": "completed"
    },
    "tags": []
   },
   "outputs": [
    {
     "data": {
      "text/plain": [
       "(240, 7)"
      ]
     },
     "execution_count": 3,
     "metadata": {},
     "output_type": "execute_result"
    }
   ],
   "source": [
    "data.shape"
   ]
  },
  {
   "cell_type": "code",
   "execution_count": 4,
   "id": "offensive-concrete",
   "metadata": {
    "execution": {
     "iopub.execute_input": "2021-05-12T11:20:51.368985Z",
     "iopub.status.busy": "2021-05-12T11:20:51.368315Z",
     "iopub.status.idle": "2021-05-12T11:20:51.371707Z",
     "shell.execute_reply": "2021-05-12T11:20:51.372243Z"
    },
    "papermill": {
     "duration": 0.054836,
     "end_time": "2021-05-12T11:20:51.372436",
     "exception": false,
     "start_time": "2021-05-12T11:20:51.317600",
     "status": "completed"
    },
    "tags": []
   },
   "outputs": [
    {
     "name": "stdout",
     "output_type": "stream",
     "text": [
      "<class 'pandas.core.frame.DataFrame'>\n",
      "RangeIndex: 240 entries, 0 to 239\n",
      "Data columns (total 7 columns):\n",
      " #   Column          Non-Null Count  Dtype  \n",
      "---  ------          --------------  -----  \n",
      " 0   Temperature     240 non-null    int64  \n",
      " 1   L               240 non-null    float64\n",
      " 2   R               240 non-null    float64\n",
      " 3   A_M             240 non-null    float64\n",
      " 4   Color           240 non-null    object \n",
      " 5   Spectral_Class  240 non-null    object \n",
      " 6   Type            240 non-null    int64  \n",
      "dtypes: float64(3), int64(2), object(2)\n",
      "memory usage: 13.2+ KB\n"
     ]
    }
   ],
   "source": [
    "data.info()"
   ]
  },
  {
   "cell_type": "markdown",
   "id": "greek-incidence",
   "metadata": {
    "papermill": {
     "duration": 0.029017,
     "end_time": "2021-05-12T11:20:51.430551",
     "exception": false,
     "start_time": "2021-05-12T11:20:51.401534",
     "status": "completed"
    },
    "tags": []
   },
   "source": [
    "## Missing Value Analysis"
   ]
  },
  {
   "cell_type": "code",
   "execution_count": 5,
   "id": "expanded-verse",
   "metadata": {
    "execution": {
     "iopub.execute_input": "2021-05-12T11:20:51.493088Z",
     "iopub.status.busy": "2021-05-12T11:20:51.492463Z",
     "iopub.status.idle": "2021-05-12T11:20:51.502224Z",
     "shell.execute_reply": "2021-05-12T11:20:51.501669Z"
    },
    "papermill": {
     "duration": 0.042059,
     "end_time": "2021-05-12T11:20:51.502366",
     "exception": false,
     "start_time": "2021-05-12T11:20:51.460307",
     "status": "completed"
    },
    "tags": []
   },
   "outputs": [
    {
     "data": {
      "text/plain": [
       "Temperature       0\n",
       "L                 0\n",
       "R                 0\n",
       "A_M               0\n",
       "Color             0\n",
       "Spectral_Class    0\n",
       "Type              0\n",
       "dtype: int64"
      ]
     },
     "execution_count": 5,
     "metadata": {},
     "output_type": "execute_result"
    }
   ],
   "source": [
    "data.isnull().sum()"
   ]
  },
  {
   "cell_type": "markdown",
   "id": "endless-feedback",
   "metadata": {
    "papermill": {
     "duration": 0.029669,
     "end_time": "2021-05-12T11:20:51.561469",
     "exception": false,
     "start_time": "2021-05-12T11:20:51.531800",
     "status": "completed"
    },
    "tags": []
   },
   "source": [
    "#### No Missing Values in the Data"
   ]
  },
  {
   "cell_type": "markdown",
   "id": "fatty-segment",
   "metadata": {
    "papermill": {
     "duration": 0.029654,
     "end_time": "2021-05-12T11:20:51.621175",
     "exception": false,
     "start_time": "2021-05-12T11:20:51.591521",
     "status": "completed"
    },
    "tags": []
   },
   "source": [
    "## Duplicates Analysis"
   ]
  },
  {
   "cell_type": "code",
   "execution_count": 6,
   "id": "minus-hughes",
   "metadata": {
    "execution": {
     "iopub.execute_input": "2021-05-12T11:20:51.689495Z",
     "iopub.status.busy": "2021-05-12T11:20:51.688540Z",
     "iopub.status.idle": "2021-05-12T11:20:51.701989Z",
     "shell.execute_reply": "2021-05-12T11:20:51.701385Z"
    },
    "papermill": {
     "duration": 0.050832,
     "end_time": "2021-05-12T11:20:51.702141",
     "exception": false,
     "start_time": "2021-05-12T11:20:51.651309",
     "status": "completed"
    },
    "tags": []
   },
   "outputs": [
    {
     "data": {
      "text/html": [
       "<div>\n",
       "<style scoped>\n",
       "    .dataframe tbody tr th:only-of-type {\n",
       "        vertical-align: middle;\n",
       "    }\n",
       "\n",
       "    .dataframe tbody tr th {\n",
       "        vertical-align: top;\n",
       "    }\n",
       "\n",
       "    .dataframe thead th {\n",
       "        text-align: right;\n",
       "    }\n",
       "</style>\n",
       "<table border=\"1\" class=\"dataframe\">\n",
       "  <thead>\n",
       "    <tr style=\"text-align: right;\">\n",
       "      <th></th>\n",
       "      <th>Temperature</th>\n",
       "      <th>L</th>\n",
       "      <th>R</th>\n",
       "      <th>A_M</th>\n",
       "      <th>Color</th>\n",
       "      <th>Spectral_Class</th>\n",
       "      <th>Type</th>\n",
       "    </tr>\n",
       "  </thead>\n",
       "  <tbody>\n",
       "  </tbody>\n",
       "</table>\n",
       "</div>"
      ],
      "text/plain": [
       "Empty DataFrame\n",
       "Columns: [Temperature, L, R, A_M, Color, Spectral_Class, Type]\n",
       "Index: []"
      ]
     },
     "execution_count": 6,
     "metadata": {},
     "output_type": "execute_result"
    }
   ],
   "source": [
    "data[data.duplicated()]"
   ]
  },
  {
   "cell_type": "markdown",
   "id": "narrative-asset",
   "metadata": {
    "papermill": {
     "duration": 0.030607,
     "end_time": "2021-05-12T11:20:51.763346",
     "exception": false,
     "start_time": "2021-05-12T11:20:51.732739",
     "status": "completed"
    },
    "tags": []
   },
   "source": [
    "#### No Duplicate Values present"
   ]
  },
  {
   "cell_type": "markdown",
   "id": "supposed-ethnic",
   "metadata": {
    "papermill": {
     "duration": 0.030412,
     "end_time": "2021-05-12T11:20:51.825697",
     "exception": false,
     "start_time": "2021-05-12T11:20:51.795285",
     "status": "completed"
    },
    "tags": []
   },
   "source": [
    "## Feature Analysis"
   ]
  },
  {
   "cell_type": "code",
   "execution_count": 7,
   "id": "excited-junior",
   "metadata": {
    "execution": {
     "iopub.execute_input": "2021-05-12T11:20:51.912364Z",
     "iopub.status.busy": "2021-05-12T11:20:51.911635Z",
     "iopub.status.idle": "2021-05-12T11:20:52.498553Z",
     "shell.execute_reply": "2021-05-12T11:20:52.499060Z"
    },
    "papermill": {
     "duration": 0.64214,
     "end_time": "2021-05-12T11:20:52.499258",
     "exception": false,
     "start_time": "2021-05-12T11:20:51.857118",
     "status": "completed"
    },
    "tags": []
   },
   "outputs": [
    {
     "data": {
      "image/png": "[encoded data removed]",
      "text/plain": [
       "<Figure size 1080x1080 with 4 Axes>"
      ]
     },
     "metadata": {
      "needs_background": "light"
     },
     "output_type": "display_data"
    }
   ],
   "source": [
    "fig, axs = plt.subplots(2, 2,figsize=(15,15))\n",
    "axs[0, 0].boxplot(data['Temperature'])\n",
    "axs[0, 0].set_title('Temperature')\n",
    "axs[0, 1].boxplot(data['R'], 'tab:orange')\n",
    "axs[0, 1].set_title('Radius')\n",
    "axs[1, 0].boxplot(data['A_M'], 'tab:green')\n",
    "axs[1, 0].set_title('Absolute Magnitutde')\n",
    "axs[1, 1].boxplot(data['L'], 'tab:red')\n",
    "axs[1, 1].set_title('Luminosity')\n",
    "\n",
    "for ax in axs.flat:\n",
    "    ax.set(xlabel='x-label', ylabel='y-label')\n",
    "\n",
    "# Hide x labels and tick labels for top plots and y ticks for right plots.\n",
    "for ax in axs.flat:\n",
    "    ax.label_outer()"
   ]
  },
  {
   "cell_type": "markdown",
   "id": "enabling-crisis",
   "metadata": {
    "papermill": {
     "duration": 0.032155,
     "end_time": "2021-05-12T11:20:52.563854",
     "exception": false,
     "start_time": "2021-05-12T11:20:52.531699",
     "status": "completed"
    },
    "tags": []
   },
   "source": [
    "## Star Color Analysis"
   ]
  },
  {
   "cell_type": "code",
   "execution_count": 8,
   "id": "convertible-pledge",
   "metadata": {
    "execution": {
     "iopub.execute_input": "2021-05-12T11:20:52.631794Z",
     "iopub.status.busy": "2021-05-12T11:20:52.631193Z",
     "iopub.status.idle": "2021-05-12T11:20:52.910944Z",
     "shell.execute_reply": "2021-05-12T11:20:52.910150Z"
    },
    "papermill": {
     "duration": 0.314875,
     "end_time": "2021-05-12T11:20:52.911135",
     "exception": false,
     "start_time": "2021-05-12T11:20:52.596260",
     "status": "completed"
    },
    "tags": []
   },
   "outputs": [
    {
     "data": {
      "text/plain": [
       "Text(0.5, 1.0, 'Star Color Analysis')"
      ]
     },
     "execution_count": 8,
     "metadata": {},
     "output_type": "execute_result"
    },
    {
     "data": {
      "image/png": "[encoded data removed]",
      "text/plain": [
       "<Figure size 576x432 with 1 Axes>"
      ]
     },
     "metadata": {
      "needs_background": "light"
     },
     "output_type": "display_data"
    }
   ],
   "source": [
    "a= pd.DataFrame(data['Color'].value_counts())\n",
    "plt.figure(figsize=(8,6))\n",
    "sns.barplot(a['Color'], a.index, palette= 'Spectral')\n",
    "plt.title(\"Star Color Analysis\")"
   ]
  },
  {
   "cell_type": "markdown",
   "id": "proved-virus",
   "metadata": {
    "papermill": {
     "duration": 0.033787,
     "end_time": "2021-05-12T11:20:52.978950",
     "exception": false,
     "start_time": "2021-05-12T11:20:52.945163",
     "status": "completed"
    },
    "tags": []
   },
   "source": [
    "#### 112 stars have Red color & 56 stars have Blue color"
   ]
  },
  {
   "cell_type": "markdown",
   "id": "japanese-concord",
   "metadata": {
    "papermill": {
     "duration": 0.040552,
     "end_time": "2021-05-12T11:20:53.059442",
     "exception": false,
     "start_time": "2021-05-12T11:20:53.018890",
     "status": "completed"
    },
    "tags": []
   },
   "source": [
    "## Star Spectral Class Analysis"
   ]
  },
  {
   "cell_type": "code",
   "execution_count": 9,
   "id": "liked-process",
   "metadata": {
    "execution": {
     "iopub.execute_input": "2021-05-12T11:20:53.133235Z",
     "iopub.status.busy": "2021-05-12T11:20:53.132590Z",
     "iopub.status.idle": "2021-05-12T11:20:53.297776Z",
     "shell.execute_reply": "2021-05-12T11:20:53.298261Z"
    },
    "papermill": {
     "duration": 0.205856,
     "end_time": "2021-05-12T11:20:53.298510",
     "exception": false,
     "start_time": "2021-05-12T11:20:53.092654",
     "status": "completed"
    },
    "tags": []
   },
   "outputs": [
    {
     "data": {
      "text/plain": [
       "Text(0.5, 1.0, 'Star Spectral Class Analysis')"
      ]
     },
     "execution_count": 9,
     "metadata": {},
     "output_type": "execute_result"
    },
    {
     "data": {
      "image/png": "[encoded data removed]",
      "text/plain": [
       "<Figure size 576x432 with 1 Axes>"
      ]
     },
     "metadata": {
      "needs_background": "light"
     },
     "output_type": "display_data"
    }
   ],
   "source": [
    "a= pd.DataFrame(data['Spectral_Class'].value_counts())\n",
    "plt.figure(figsize=(8,6))\n",
    "sns.barplot(a['Spectral_Class'], a.index, palette= 'rainbow')\n",
    "plt.title(\"Star Spectral Class Analysis\")"
   ]
  },
  {
   "cell_type": "markdown",
   "id": "finished-jonathan",
   "metadata": {
    "papermill": {
     "duration": 0.034014,
     "end_time": "2021-05-12T11:20:53.366989",
     "exception": false,
     "start_time": "2021-05-12T11:20:53.332975",
     "status": "completed"
    },
    "tags": []
   },
   "source": [
    "#### 111 Stars belong to \"M\" Spectral Class, making it the most dominant class in the sample"
   ]
  },
  {
   "cell_type": "markdown",
   "id": "suffering-beads",
   "metadata": {
    "papermill": {
     "duration": 0.035054,
     "end_time": "2021-05-12T11:20:53.437621",
     "exception": false,
     "start_time": "2021-05-12T11:20:53.402567",
     "status": "completed"
    },
    "tags": []
   },
   "source": [
    "## Star Type Analysis"
   ]
  },
  {
   "cell_type": "code",
   "execution_count": 10,
   "id": "caring-score",
   "metadata": {
    "execution": {
     "iopub.execute_input": "2021-05-12T11:20:53.511206Z",
     "iopub.status.busy": "2021-05-12T11:20:53.510489Z",
     "iopub.status.idle": "2021-05-12T11:20:53.653045Z",
     "shell.execute_reply": "2021-05-12T11:20:53.653680Z"
    },
    "papermill": {
     "duration": 0.181243,
     "end_time": "2021-05-12T11:20:53.653874",
     "exception": false,
     "start_time": "2021-05-12T11:20:53.472631",
     "status": "completed"
    },
    "tags": []
   },
   "outputs": [
    {
     "data": {
      "text/plain": [
       "Text(0.5, 1.0, 'Percentage Distribution of Star Type')"
      ]
     },
     "execution_count": 10,
     "metadata": {},
     "output_type": "execute_result"
    },
    {
     "data": {
      "image/png": "[encoded data removed]",
      "text/plain": [
       "<Figure size 720x576 with 1 Axes>"
      ]
     },
     "metadata": {},
     "output_type": "display_data"
    }
   ],
   "source": [
    "a =pd.DataFrame(data['Type'].value_counts())\n",
    "plt.figure(figsize=(10,8))\n",
    "plt.pie(a['Type'],labels=a.index,autopct='%1.1f%%')\n",
    "plt.title(\"Percentage Distribution of Star Type\")"
   ]
  },
  {
   "cell_type": "markdown",
   "id": "western-assumption",
   "metadata": {
    "papermill": {
     "duration": 0.037009,
     "end_time": "2021-05-12T11:20:53.727202",
     "exception": false,
     "start_time": "2021-05-12T11:20:53.690193",
     "status": "completed"
    },
    "tags": []
   },
   "source": [
    "#### It is seen that the comprises of equal distribution of Star Types"
   ]
  },
  {
   "cell_type": "markdown",
   "id": "cosmetic-classic",
   "metadata": {
    "papermill": {
     "duration": 0.035936,
     "end_time": "2021-05-12T11:20:53.799974",
     "exception": false,
     "start_time": "2021-05-12T11:20:53.764038",
     "status": "completed"
    },
    "tags": []
   },
   "source": [
    "## Correlation Analysis"
   ]
  },
  {
   "cell_type": "code",
   "execution_count": 11,
   "id": "solid-compiler",
   "metadata": {
    "execution": {
     "iopub.execute_input": "2021-05-12T11:20:53.877125Z",
     "iopub.status.busy": "2021-05-12T11:20:53.876400Z",
     "iopub.status.idle": "2021-05-12T11:20:54.179081Z",
     "shell.execute_reply": "2021-05-12T11:20:54.178479Z"
    },
    "papermill": {
     "duration": 0.341978,
     "end_time": "2021-05-12T11:20:54.179253",
     "exception": false,
     "start_time": "2021-05-12T11:20:53.837275",
     "status": "completed"
    },
    "tags": []
   },
   "outputs": [
    {
     "data": {
      "image/png": "[encoded data removed]",
      "text/plain": [
       "<Figure size 792x432 with 2 Axes>"
      ]
     },
     "metadata": {
      "needs_background": "light"
     },
     "output_type": "display_data"
    }
   ],
   "source": [
    "matrix= data.corr()\n",
    "mask = np.zeros_like(matrix, dtype=np.bool)\n",
    "mask[np.triu_indices_from(mask)]= True\n",
    "\n",
    "\n",
    "plt.figure(figsize=(11,6))\n",
    "sns.heatmap(matrix,annot=True,cmap='viridis',annot_kws = {'size': 10},mask=mask)\n",
    "plt.title(\"Correlation Analysis\")\n",
    "plt.show()"
   ]
  },
  {
   "cell_type": "markdown",
   "id": "flush-appendix",
   "metadata": {
    "papermill": {
     "duration": 0.037107,
     "end_time": "2021-05-12T11:20:54.253975",
     "exception": false,
     "start_time": "2021-05-12T11:20:54.216868",
     "status": "completed"
    },
    "tags": []
   },
   "source": [
    "- There is a Moderate Positive Correlation between Luminosity-Temperature and Star Type-Temperature\n",
    "- Moderately High Positive Correlation is seen between Lumionsity-Radius, Luminosity-Star Type & Radius- Star Type\n",
    "- Moderately High Negatively Correlation is seen between Lumionsity-Magnitude & Radius-Magnitude\n",
    "- Strong Negative Correlation is seen between Magnitude & Star Type"
   ]
  },
  {
   "cell_type": "markdown",
   "id": "ceramic-reservoir",
   "metadata": {
    "papermill": {
     "duration": 0.03794,
     "end_time": "2021-05-12T11:20:54.330462",
     "exception": false,
     "start_time": "2021-05-12T11:20:54.292522",
     "status": "completed"
    },
    "tags": []
   },
   "source": [
    "## Star Classification Analysis"
   ]
  },
  {
   "cell_type": "code",
   "execution_count": 12,
   "id": "paperback-holocaust",
   "metadata": {
    "execution": {
     "iopub.execute_input": "2021-05-12T11:20:54.421376Z",
     "iopub.status.busy": "2021-05-12T11:20:54.420658Z",
     "iopub.status.idle": "2021-05-12T11:20:54.424693Z",
     "shell.execute_reply": "2021-05-12T11:20:54.425163Z"
    },
    "papermill": {
     "duration": 0.056427,
     "end_time": "2021-05-12T11:20:54.425367",
     "exception": false,
     "start_time": "2021-05-12T11:20:54.368940",
     "status": "completed"
    },
    "tags": []
   },
   "outputs": [],
   "source": [
    "from sklearn.preprocessing import LabelEncoder\n",
    "x1=LabelEncoder()  \n",
    "data['Spectral_Class']= x1.fit_transform(data['Spectral_Class'])\n",
    "data['Color']= x1.fit_transform(data['Color'])\n",
    "\n",
    "Y= data[['Type']]\n",
    "X= data.drop(['Type'], axis=1)\n",
    "\n",
    "x_train, x_test, y_train, y_test= train_test_split(X, Y, test_size=0.2, random_state=0, stratify=Y)"
   ]
  },
  {
   "cell_type": "markdown",
   "id": "opened-favorite",
   "metadata": {
    "papermill": {
     "duration": 0.03733,
     "end_time": "2021-05-12T11:20:54.500415",
     "exception": false,
     "start_time": "2021-05-12T11:20:54.463085",
     "status": "completed"
    },
    "tags": []
   },
   "source": [
    "### Logistic Regression"
   ]
  },
  {
   "cell_type": "code",
   "execution_count": 13,
   "id": "accompanied-asset",
   "metadata": {
    "execution": {
     "iopub.execute_input": "2021-05-12T11:20:54.585323Z",
     "iopub.status.busy": "2021-05-12T11:20:54.584570Z",
     "iopub.status.idle": "2021-05-12T11:20:54.658669Z",
     "shell.execute_reply": "2021-05-12T11:20:54.658064Z"
    },
    "papermill": {
     "duration": 0.120628,
     "end_time": "2021-05-12T11:20:54.658826",
     "exception": false,
     "start_time": "2021-05-12T11:20:54.538198",
     "status": "completed"
    },
    "tags": []
   },
   "outputs": [
    {
     "name": "stdout",
     "output_type": "stream",
     "text": [
      "Accuracy Score:  0.9375\n",
      "Confusion Matrix: \n",
      "[[8 0 0 0 0 0]\n",
      " [1 7 0 0 0 0]\n",
      " [0 0 8 0 0 0]\n",
      " [0 0 0 6 2 0]\n",
      " [0 0 0 0 8 0]\n",
      " [0 0 0 0 0 8]]\n"
     ]
    }
   ],
   "source": [
    "LogReg= LogisticRegression()\n",
    "LogReg= LogReg.fit(x_train,y_train)\n",
    "y_pred= LogReg.predict(x_test)\n",
    "print(\"Accuracy Score: \",metrics.accuracy_score(y_pred,y_test))\n",
    "cm= confusion_matrix(y_test,y_pred)\n",
    "print(\"Confusion Matrix: \",cm,sep='\\n')"
   ]
  },
  {
   "cell_type": "code",
   "execution_count": 14,
   "id": "unsigned-violin",
   "metadata": {
    "execution": {
     "iopub.execute_input": "2021-05-12T11:20:54.747462Z",
     "iopub.status.busy": "2021-05-12T11:20:54.746733Z",
     "iopub.status.idle": "2021-05-12T11:20:54.756777Z",
     "shell.execute_reply": "2021-05-12T11:20:54.756238Z"
    },
    "papermill": {
     "duration": 0.059221,
     "end_time": "2021-05-12T11:20:54.756953",
     "exception": false,
     "start_time": "2021-05-12T11:20:54.697732",
     "status": "completed"
    },
    "tags": []
   },
   "outputs": [
    {
     "data": {
      "text/plain": [
       "0.9624999999999999"
      ]
     },
     "execution_count": 14,
     "metadata": {},
     "output_type": "execute_result"
    }
   ],
   "source": [
    "def multiclass_roc_auc_score(y_test, y_pred, average=\"macro\"):\n",
    "    lb = LabelBinarizer()\n",
    "    lb.fit(y_test)\n",
    "    y_test = lb.transform(y_test)\n",
    "    y_pred = lb.transform(y_pred)\n",
    "    return roc_auc_score(y_test, y_pred, average=average)\n",
    "\n",
    "\n",
    "LogReg= multiclass_roc_auc_score(y_test,y_pred)\n",
    "LogReg"
   ]
  },
  {
   "cell_type": "markdown",
   "id": "blank-offering",
   "metadata": {
    "papermill": {
     "duration": 0.038813,
     "end_time": "2021-05-12T11:20:54.834438",
     "exception": false,
     "start_time": "2021-05-12T11:20:54.795625",
     "status": "completed"
    },
    "tags": []
   },
   "source": [
    "### KNN "
   ]
  },
  {
   "cell_type": "code",
   "execution_count": 15,
   "id": "contrary-ghana",
   "metadata": {
    "execution": {
     "iopub.execute_input": "2021-05-12T11:20:54.929598Z",
     "iopub.status.busy": "2021-05-12T11:20:54.928502Z",
     "iopub.status.idle": "2021-05-12T11:20:54.939493Z",
     "shell.execute_reply": "2021-05-12T11:20:54.939970Z"
    },
    "papermill": {
     "duration": 0.066536,
     "end_time": "2021-05-12T11:20:54.940189",
     "exception": false,
     "start_time": "2021-05-12T11:20:54.873653",
     "status": "completed"
    },
    "tags": []
   },
   "outputs": [
    {
     "name": "stdout",
     "output_type": "stream",
     "text": [
      "Accuracy Score:  0.5416666666666666\n",
      "Confusion Matrix: \n",
      "[[5 3 0 0 0 0]\n",
      " [3 5 0 0 0 0]\n",
      " [0 0 5 3 0 0]\n",
      " [0 0 3 4 1 0]\n",
      " [0 0 0 0 4 4]\n",
      " [0 0 0 0 5 3]]\n"
     ]
    }
   ],
   "source": [
    "knn= KNeighborsClassifier(n_neighbors=5)\n",
    "knn.fit(x_train,y_train)\n",
    "\n",
    "y_pred= knn.predict(x_test)\n",
    "print(\"Accuracy Score: \",metrics.accuracy_score(y_pred,y_test))\n",
    "\n",
    "cm= confusion_matrix(y_test,y_pred)\n",
    "print(\"Confusion Matrix: \",cm,sep='\\n')"
   ]
  },
  {
   "cell_type": "code",
   "execution_count": 16,
   "id": "continuous-bishop",
   "metadata": {
    "execution": {
     "iopub.execute_input": "2021-05-12T11:20:55.026237Z",
     "iopub.status.busy": "2021-05-12T11:20:55.025537Z",
     "iopub.status.idle": "2021-05-12T11:20:55.035826Z",
     "shell.execute_reply": "2021-05-12T11:20:55.034834Z"
    },
    "papermill": {
     "duration": 0.056672,
     "end_time": "2021-05-12T11:20:55.036048",
     "exception": false,
     "start_time": "2021-05-12T11:20:54.979376",
     "status": "completed"
    },
    "tags": []
   },
   "outputs": [
    {
     "data": {
      "text/plain": [
       "0.7250000000000001"
      ]
     },
     "execution_count": 16,
     "metadata": {},
     "output_type": "execute_result"
    }
   ],
   "source": [
    "KNN=multiclass_roc_auc_score(y_test,y_pred)\n",
    "KNN"
   ]
  },
  {
   "cell_type": "markdown",
   "id": "waiting-chrome",
   "metadata": {
    "papermill": {
     "duration": 0.039013,
     "end_time": "2021-05-12T11:20:55.114870",
     "exception": false,
     "start_time": "2021-05-12T11:20:55.075857",
     "status": "completed"
    },
    "tags": []
   },
   "source": [
    "### Decision Tree"
   ]
  },
  {
   "cell_type": "code",
   "execution_count": 17,
   "id": "hawaiian-dollar",
   "metadata": {
    "execution": {
     "iopub.execute_input": "2021-05-12T11:20:55.204771Z",
     "iopub.status.busy": "2021-05-12T11:20:55.203644Z",
     "iopub.status.idle": "2021-05-12T11:20:55.213800Z",
     "shell.execute_reply": "2021-05-12T11:20:55.213221Z"
    },
    "papermill": {
     "duration": 0.059316,
     "end_time": "2021-05-12T11:20:55.213976",
     "exception": false,
     "start_time": "2021-05-12T11:20:55.154660",
     "status": "completed"
    },
    "tags": []
   },
   "outputs": [
    {
     "name": "stdout",
     "output_type": "stream",
     "text": [
      "Accuracy Score:  1.0\n",
      "Confusion Matrix: \n",
      "[[8 0 0 0 0 0]\n",
      " [0 8 0 0 0 0]\n",
      " [0 0 8 0 0 0]\n",
      " [0 0 0 8 0 0]\n",
      " [0 0 0 0 8 0]\n",
      " [0 0 0 0 0 8]]\n"
     ]
    }
   ],
   "source": [
    "dtc= DecisionTreeClassifier(criterion=\"entropy\")\n",
    "dtc.fit(x_train,y_train)\n",
    "\n",
    "y_pred= dtc.predict(x_test)\n",
    "print(\"Accuracy Score: \",metrics.accuracy_score(y_pred,y_test))\n",
    "\n",
    "cm= confusion_matrix(y_test,y_pred)\n",
    "print(\"Confusion Matrix: \",cm,sep='\\n')"
   ]
  },
  {
   "cell_type": "code",
   "execution_count": 18,
   "id": "aquatic-blake",
   "metadata": {
    "execution": {
     "iopub.execute_input": "2021-05-12T11:20:55.302883Z",
     "iopub.status.busy": "2021-05-12T11:20:55.302190Z",
     "iopub.status.idle": "2021-05-12T11:20:55.311679Z",
     "shell.execute_reply": "2021-05-12T11:20:55.311106Z"
    },
    "papermill": {
     "duration": 0.057634,
     "end_time": "2021-05-12T11:20:55.311824",
     "exception": false,
     "start_time": "2021-05-12T11:20:55.254190",
     "status": "completed"
    },
    "tags": []
   },
   "outputs": [
    {
     "data": {
      "text/plain": [
       "1.0"
      ]
     },
     "execution_count": 18,
     "metadata": {},
     "output_type": "execute_result"
    }
   ],
   "source": [
    "DT=multiclass_roc_auc_score(y_test,y_pred)\n",
    "DT"
   ]
  },
  {
   "cell_type": "markdown",
   "id": "unusual-semester",
   "metadata": {
    "papermill": {
     "duration": 0.039704,
     "end_time": "2021-05-12T11:20:55.391734",
     "exception": false,
     "start_time": "2021-05-12T11:20:55.352030",
     "status": "completed"
    },
    "tags": []
   },
   "source": [
    "### Random Forest"
   ]
  },
  {
   "cell_type": "code",
   "execution_count": 19,
   "id": "afraid-titanium",
   "metadata": {
    "execution": {
     "iopub.execute_input": "2021-05-12T11:20:55.488503Z",
     "iopub.status.busy": "2021-05-12T11:20:55.482970Z",
     "iopub.status.idle": "2021-05-12T11:20:55.692399Z",
     "shell.execute_reply": "2021-05-12T11:20:55.691705Z"
    },
    "papermill": {
     "duration": 0.259401,
     "end_time": "2021-05-12T11:20:55.692564",
     "exception": false,
     "start_time": "2021-05-12T11:20:55.433163",
     "status": "completed"
    },
    "tags": []
   },
   "outputs": [
    {
     "name": "stdout",
     "output_type": "stream",
     "text": [
      "Accuracy Score RandomForest:  1.0\n",
      "Confusion Matrix: \n",
      "[[8 0 0 0 0 0]\n",
      " [0 8 0 0 0 0]\n",
      " [0 0 8 0 0 0]\n",
      " [0 0 0 8 0 0]\n",
      " [0 0 0 0 8 0]\n",
      " [0 0 0 0 0 8]]\n"
     ]
    }
   ],
   "source": [
    "rf= RandomForestClassifier(n_estimators=100,random_state=0)\n",
    "rf.fit(x_train,y_train)\n",
    "\n",
    "y_pred= rf.predict(x_test)\n",
    "print(\"Accuracy Score RandomForest: \",metrics.accuracy_score(y_test,y_pred))\n",
    "\n",
    "cm= confusion_matrix(y_test,y_pred)\n",
    "print(\"Confusion Matrix: \",cm,sep='\\n')"
   ]
  },
  {
   "cell_type": "code",
   "execution_count": 20,
   "id": "official-launch",
   "metadata": {
    "execution": {
     "iopub.execute_input": "2021-05-12T11:20:55.783562Z",
     "iopub.status.busy": "2021-05-12T11:20:55.781480Z",
     "iopub.status.idle": "2021-05-12T11:20:55.791637Z",
     "shell.execute_reply": "2021-05-12T11:20:55.791080Z"
    },
    "papermill": {
     "duration": 0.057613,
     "end_time": "2021-05-12T11:20:55.791792",
     "exception": false,
     "start_time": "2021-05-12T11:20:55.734179",
     "status": "completed"
    },
    "tags": []
   },
   "outputs": [
    {
     "data": {
      "text/plain": [
       "1.0"
      ]
     },
     "execution_count": 20,
     "metadata": {},
     "output_type": "execute_result"
    }
   ],
   "source": [
    "RF= multiclass_roc_auc_score(y_test,y_pred)\n",
    "RF"
   ]
  },
  {
   "cell_type": "markdown",
   "id": "fabulous-north",
   "metadata": {
    "papermill": {
     "duration": 0.041885,
     "end_time": "2021-05-12T11:20:55.875761",
     "exception": false,
     "start_time": "2021-05-12T11:20:55.833876",
     "status": "completed"
    },
    "tags": []
   },
   "source": [
    "### Ada Boost Classifier"
   ]
  },
  {
   "cell_type": "code",
   "execution_count": 21,
   "id": "reliable-stroke",
   "metadata": {
    "execution": {
     "iopub.execute_input": "2021-05-12T11:20:55.972361Z",
     "iopub.status.busy": "2021-05-12T11:20:55.971658Z",
     "iopub.status.idle": "2021-05-12T11:20:56.353693Z",
     "shell.execute_reply": "2021-05-12T11:20:56.352890Z"
    },
    "papermill": {
     "duration": 0.434247,
     "end_time": "2021-05-12T11:20:56.353909",
     "exception": false,
     "start_time": "2021-05-12T11:20:55.919662",
     "status": "completed"
    },
    "tags": []
   },
   "outputs": [
    {
     "name": "stdout",
     "output_type": "stream",
     "text": [
      "Accuracy Score of AdaBoost Classifier:  0.6666666666666666\n",
      "Confusion Matrix: \n",
      "[[8 0 0 0 0 0]\n",
      " [0 8 0 0 0 0]\n",
      " [0 0 8 0 0 0]\n",
      " [0 8 0 0 0 0]\n",
      " [0 8 0 0 0 0]\n",
      " [0 0 0 0 0 8]]\n"
     ]
    }
   ],
   "source": [
    "ada= AdaBoostClassifier(n_estimators=200,random_state=0)\n",
    "ada.fit(x_train,y_train)\n",
    "\n",
    "y_pred= ada.predict(x_test)\n",
    "print(\"Accuracy Score of AdaBoost Classifier: \",metrics.accuracy_score(y_test,y_pred))\n",
    "\n",
    "cm= confusion_matrix(y_test,y_pred)\n",
    "print(\"Confusion Matrix: \",cm,sep='\\n')"
   ]
  },
  {
   "cell_type": "code",
   "execution_count": 22,
   "id": "artistic-found",
   "metadata": {
    "execution": {
     "iopub.execute_input": "2021-05-12T11:20:56.448608Z",
     "iopub.status.busy": "2021-05-12T11:20:56.447807Z",
     "iopub.status.idle": "2021-05-12T11:20:56.458307Z",
     "shell.execute_reply": "2021-05-12T11:20:56.457752Z"
    },
    "papermill": {
     "duration": 0.061497,
     "end_time": "2021-05-12T11:20:56.458482",
     "exception": false,
     "start_time": "2021-05-12T11:20:56.396985",
     "status": "completed"
    },
    "tags": []
   },
   "outputs": [
    {
     "data": {
      "text/plain": [
       "0.7999999999999999"
      ]
     },
     "execution_count": 22,
     "metadata": {},
     "output_type": "execute_result"
    }
   ],
   "source": [
    "AB= multiclass_roc_auc_score(y_test,y_pred)\n",
    "AB"
   ]
  },
  {
   "cell_type": "markdown",
   "id": "superior-cargo",
   "metadata": {
    "papermill": {
     "duration": 0.042319,
     "end_time": "2021-05-12T11:20:56.543717",
     "exception": false,
     "start_time": "2021-05-12T11:20:56.501398",
     "status": "completed"
    },
    "tags": []
   },
   "source": [
    "### Gradient Boost Classifiier"
   ]
  },
  {
   "cell_type": "code",
   "execution_count": 23,
   "id": "nominated-class",
   "metadata": {
    "execution": {
     "iopub.execute_input": "2021-05-12T11:20:56.639979Z",
     "iopub.status.busy": "2021-05-12T11:20:56.638842Z",
     "iopub.status.idle": "2021-05-12T11:20:57.564569Z",
     "shell.execute_reply": "2021-05-12T11:20:57.563851Z"
    },
    "papermill": {
     "duration": 0.978458,
     "end_time": "2021-05-12T11:20:57.564724",
     "exception": false,
     "start_time": "2021-05-12T11:20:56.586266",
     "status": "completed"
    },
    "tags": []
   },
   "outputs": [
    {
     "name": "stdout",
     "output_type": "stream",
     "text": [
      "Accuracy Score of GradientBoost Classifier:  1.0\n",
      "Confusion Matrix: \n",
      "[[8 0 0 0 0 0]\n",
      " [0 8 0 0 0 0]\n",
      " [0 0 8 0 0 0]\n",
      " [0 0 0 8 0 0]\n",
      " [0 0 0 0 8 0]\n",
      " [0 0 0 0 0 8]]\n"
     ]
    }
   ],
   "source": [
    "gradient= GradientBoostingClassifier(n_estimators=200,random_state=0,max_depth=2)\n",
    "gradient.fit(x_train,y_train)\n",
    "\n",
    "y_pred= gradient.predict(x_test)\n",
    "print(\"Accuracy Score of GradientBoost Classifier: \",metrics.accuracy_score(y_test,y_pred))\n",
    "\n",
    "cm= confusion_matrix(y_test,y_pred)\n",
    "print(\"Confusion Matrix: \",cm,sep='\\n')"
   ]
  },
  {
   "cell_type": "code",
   "execution_count": 24,
   "id": "rubber-freedom",
   "metadata": {
    "execution": {
     "iopub.execute_input": "2021-05-12T11:20:57.658966Z",
     "iopub.status.busy": "2021-05-12T11:20:57.658300Z",
     "iopub.status.idle": "2021-05-12T11:20:57.667735Z",
     "shell.execute_reply": "2021-05-12T11:20:57.666990Z"
    },
    "papermill": {
     "duration": 0.060483,
     "end_time": "2021-05-12T11:20:57.667897",
     "exception": false,
     "start_time": "2021-05-12T11:20:57.607414",
     "status": "completed"
    },
    "tags": []
   },
   "outputs": [
    {
     "data": {
      "text/plain": [
       "1.0"
      ]
     },
     "execution_count": 24,
     "metadata": {},
     "output_type": "execute_result"
    }
   ],
   "source": [
    "GB= multiclass_roc_auc_score(y_test,y_pred)\n",
    "GB"
   ]
  },
  {
   "cell_type": "markdown",
   "id": "qualified-nevada",
   "metadata": {
    "papermill": {
     "duration": 0.042983,
     "end_time": "2021-05-12T11:20:57.754625",
     "exception": false,
     "start_time": "2021-05-12T11:20:57.711642",
     "status": "completed"
    },
    "tags": []
   },
   "source": [
    "### Model Comparison"
   ]
  },
  {
   "cell_type": "code",
   "execution_count": 25,
   "id": "worth-webcam",
   "metadata": {
    "execution": {
     "iopub.execute_input": "2021-05-12T11:20:57.877264Z",
     "iopub.status.busy": "2021-05-12T11:20:57.867831Z",
     "iopub.status.idle": "2021-05-12T11:20:58.029553Z",
     "shell.execute_reply": "2021-05-12T11:20:58.028861Z"
    },
    "papermill": {
     "duration": 0.231372,
     "end_time": "2021-05-12T11:20:58.029720",
     "exception": false,
     "start_time": "2021-05-12T11:20:57.798348",
     "status": "completed"
    },
    "tags": []
   },
   "outputs": [
    {
     "data": {
      "text/plain": [
       "Text(0.5, 1.0, 'ML Model Comparison')"
      ]
     },
     "execution_count": 25,
     "metadata": {},
     "output_type": "execute_result"
    },
    {
     "data": {
      "image/png": "[encoded data removed]",
      "text/plain": [
       "<Figure size 792x432 with 1 Axes>"
      ]
     },
     "metadata": {
      "needs_background": "light"
     },
     "output_type": "display_data"
    }
   ],
   "source": [
    "mc= pd.DataFrame([LogReg,KNN,DT,RF,AB,GB],['Logistic Regression','KNN Classifier','Decision Tree','Random Forest','Ada-Boost','Gradient Boost'])\n",
    "mc.columns=['ROC_AUC']\n",
    "mc\n",
    "\n",
    "plt.figure(figsize=(11,6))\n",
    "sns.barplot(mc.index,mc.ROC_AUC,palette='rainbow')\n",
    "plt.title('ML Model Comparison')"
   ]
  },
  {
   "cell_type": "markdown",
   "id": "sealed-interference",
   "metadata": {
    "papermill": {
     "duration": 0.044686,
     "end_time": "2021-05-12T11:20:58.119503",
     "exception": false,
     "start_time": "2021-05-12T11:20:58.074817",
     "status": "completed"
    },
    "tags": []
   },
   "source": [
    "### It is seen that Random Forest, Decision Tree & Gradient Boost Classifiers give the best Classification Performance"
   ]
  }
 ],
 "metadata": {
  "kernelspec": {
   "display_name": "Python 3",
   "language": "python",
   "name": "python3"
  },
  "language_info": {
   "codemirror_mode": {
    "name": "ipython",
    "version": 3
   },
   "file_extension": ".py",
   "mimetype": "text/x-python",
   "name": "python",
   "nbconvert_exporter": "python",
   "pygments_lexer": "ipython3",
   "version": "3.7.10"
  },
  "papermill": {
   "default_parameters": {},
   "duration": 18.933972,
   "end_time": "2021-05-12T11:20:59.922063",
   "environment_variables": {},
   "exception": null,
   "input_path": "__notebook__.ipynb",
   "output_path": "__notebook__.ipynb",
   "parameters": {},
   "start_time": "2021-05-12T11:20:40.988091",
   "version": "2.3.3"
  }
 },
 "nbformat": 4,
 "nbformat_minor": 5
}
